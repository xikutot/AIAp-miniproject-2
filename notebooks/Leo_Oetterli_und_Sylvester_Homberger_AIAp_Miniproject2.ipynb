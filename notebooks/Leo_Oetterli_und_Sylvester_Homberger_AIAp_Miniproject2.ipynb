{
 "cells": [
  {
   "cell_type": "markdown",
   "metadata": {
    "collapsed": false
   },
   "source": [
    "# AIAp Miniproject 2\n",
    "\n",
    "## Contents\n",
    "\n",
    "- [Imports](#imports)"
   ]
  },
  {
   "cell_type": "markdown",
   "metadata": {
    "collapsed": false
   },
   "source": [
    "## Imports"
   ]
  },
  {
   "cell_type": "code",
   "execution_count": null,
   "metadata": {
    "collapsed": false
   },
   "outputs": [],
   "source": [
    "from keras import utils as keras_utils"
   ]
  },
  {
   "cell_type": "markdown",
   "metadata": {
    "collapsed": false
   },
   "source": [
    "## Dataset"
   ]
  },
  {
   "cell_type": "markdown",
   "metadata": {
    "collapsed": false
   },
   "source": [
    "### b) Citation and description"
   ]
  },
  {
   "cell_type": "markdown",
   "metadata": {},
   "source": [
    "Citation: \n",
    "> Llamas, J. (2017). Architectural Heritage Elements Dataset: 64 (creative commons) revised (Version 1) [Dataset; .Jpg in .Zip]. Fundación CARTIF. https://correo.cartif.es/home/joslla@cartif.es/Briefcase/Architectural_Heritage_Elements_image_Dataset/Architectural_Heritage_Elements_Dataset_128%28creative_commons%29.zip\n",
    "\n",
    "- **Title:** Architectural Heritage Elements Dataset\n",
    "- **Subtitle:** 128 (creative commons) revised\n",
    "- **Version:** 1\n",
    "- **Publication Date:** 2017-02-20\n",
    "- **Author:** Jose Llamas\n",
    "- **Organization:** Fundación CARTIF\n",
    "- **Source:** https://correo.cartif.es/home/joslla@cartif.es/Briefcase/Architectural_Heritage_Elements_image_Dataset/Architectural_Heritage_Elements_Dataset_128%28creative_commons%29.zip\n",
    "- **Media:** .jpg in .zip\n",
    "- **Download:** 2024-03-26\n",
    "\n",
    "The raw data was extracted with Windows. We then added it to our repository on the Gitlab instance of OST.\n",
    "\n",
    "This dataset consists of 10437 RGB 64x64 jpg images classified in 11 categories:\n",
    "- Altar: 828 images\n",
    "- Apse: 505 images\n",
    "- Bell tower: 1057 images\n",
    "- Column: 1914 images\n",
    "- Dome (inner): 589 images\n",
    "- Dome (outer): 1175 images\n",
    "- Flying buttress: 405 images\n",
    "- Gargoyle (and Chimera): 1562 images\n",
    "- Portal: 307 images\n",
    "- Stained glass: 998 images\n",
    "- Vault: 1097 images\n",
    "\n",
    "As \"flying buttress\" and \"portal\" do not satisfy the minimal samples requirement of 500, we dropped them. Our adjusted dataset therefore fulfils the requirements:\n",
    "- RGB images of 9 classes\n",
    "- Each has more than 500 samples and the total is 9720 images\n",
    "- They have a resolution of 64x64 pixels"
   ]
  },
  {
   "cell_type": "markdown",
   "metadata": {
    "collapsed": false
   },
   "source": [
    "### c) Splitting into training and test data"
   ]
  },
  {
   "cell_type": "code",
   "execution_count": null,
   "metadata": {
    "collapsed": false
   },
   "outputs": [],
   "source": [
    "\n",
    "keras_utils.image_dataset_from_directory(directory=\"./data/raw/Architectual_Heritage_Elements_Dataset_128(creative_commons)\", image_size=(128, 128))\n",
    "\n",
    "train_val_imgs, test_images, train_val_lables, test_labels = model_selection.train_test_split()"
   ]
  },
  {
   "cell_type": "markdown",
   "metadata": {
    "collapsed": false
   },
   "source": [
    "## Exploratory data analysis"
   ]
  },
  {
   "cell_type": "markdown",
   "metadata": {
    "collapsed": false
   },
   "source": [
    "## Exploratory data analysis"
   ]
  },
  {
   "cell_type": "markdown",
   "metadata": {
    "collapsed": false
   },
   "source": [
    "## Architecture 1 (underfitting)"
   ]
  },
  {
   "cell_type": "markdown",
   "metadata": {
    "collapsed": false
   },
   "source": [
    "## Architecture 2 (overfitting)"
   ]
  },
  {
   "cell_type": "markdown",
   "metadata": {
    "collapsed": false
   },
   "source": [
    "## Architecture 2 (optimized)"
   ]
  },
  {
   "cell_type": "markdown",
   "metadata": {
    "collapsed": false
   },
   "source": [
    "## Quantification of the model performance"
   ]
  },
  {
   "cell_type": "markdown",
   "metadata": {
    "collapsed": false
   },
   "source": [
    "## Discussion"
   ]
  }
 ],
 "metadata": {
  "kernelspec": {
   "display_name": "aiap-miniproject-2",
   "language": "python",
   "name": "python3"
  },
  "language_info": {
   "codemirror_mode": {
    "name": "ipython",
    "version": 3
   },
   "file_extension": ".py",
   "mimetype": "text/x-python",
   "name": "python",
   "nbconvert_exporter": "python",
   "pygments_lexer": "ipython3",
   "version": "3.11.8"
  }
 },
 "nbformat": 4,
 "nbformat_minor": 2
}
